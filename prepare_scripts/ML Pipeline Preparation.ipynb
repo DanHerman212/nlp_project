{
 "cells": [
  {
   "cell_type": "markdown",
   "metadata": {},
   "source": [
    "# ML Pipeline Preparation\n",
    "Follow the instructions below to help you create your ML pipeline.\n",
    "### 1. Import libraries and load data from database.\n",
    "- Import Python libraries\n",
    "- Load dataset from database with [`read_sql_table`](https://pandas.pydata.org/pandas-docs/stable/generated/pandas.read_sql_table.html)\n",
    "- Define feature and target variables X and Y"
   ]
  },
  {
   "cell_type": "code",
   "execution_count": 1,
   "metadata": {},
   "outputs": [],
   "source": [
    "# import libraries\n",
    "import re\n",
    "import numpy as np\n",
    "import pandas as pd\n",
    "from nltk.corpus import stopwords\n",
    "from nltk.tokenize import word_tokenize\n",
    "from nltk.stem import WordNetLemmatizer\n",
    "from sklearn.feature_extraction.text import CountVectorizer, TfidfTransformer\n",
    "from sklearn.model_selection import train_test_split\n",
    "from sklearn.multioutput import MultiOutputClassifier\n",
    "from sklearn.ensemble import RandomForestClassifier\n",
    "from sklearn.pipeline import Pipeline\n",
    "from sklearn.metrics import classification_report, accuracy_score, confusion_matrix, f1_score\n",
    "\n",
    "import warnings \n",
    "warnings.filterwarnings('ignore')"
   ]
  },
  {
   "cell_type": "code",
   "execution_count": 2,
   "metadata": {},
   "outputs": [],
   "source": [
    "# load data from database\n",
    "from sqlalchemy import create_engine\n",
    "engine = create_engine('sqlite:///../data/disaster_response.db')\n",
    "df = pd.read_sql_table('features', engine) \n",
    "X = df['message']\n",
    "y = df.iloc[:,4:]"
   ]
  },
  {
   "cell_type": "markdown",
   "metadata": {},
   "source": [
    "### 2. Write a tokenization function to process your text data"
   ]
  },
  {
   "cell_type": "code",
   "execution_count": 3,
   "metadata": {},
   "outputs": [],
   "source": [
    "def tokenize(text):\n",
    "    # Normalize text\n",
    "    text = re.sub(r\"[^a-zA-Z0-9]\", \" \", text.lower())\n",
    "    \n",
    "    # Tokenize text\n",
    "    words = word_tokenize(text)\n",
    "    \n",
    "    # Remove stop words\n",
    "    words = [w for w in words if w not in stopwords.words(\"english\")]\n",
    "    \n",
    "    # Lemmatization\n",
    "    lemmed = [WordNetLemmatizer().lemmatize(w) for w in words]\n",
    "\n",
    "    # Stemming\n",
    "    # stemmed = [PorterStemmer().stem(w) for w in lemmed]\n",
    "    \n",
    "    return lemmed\n",
    "    "
   ]
  },
  {
   "cell_type": "code",
   "execution_count": 4,
   "metadata": {},
   "outputs": [
    {
     "name": "stdout",
     "output_type": "stream",
     "text": [
      "A series of seismic tremors under Lake Natron in Tanzania - close to the active volcano Ol Donyo Lengai located some 100 km northwest of Arusha - sent violent tremors across the border to Kenya and was felt as far as Nakuru, Nairobi, Mombasa and parts of Central and Eastern provinces.\n",
      "['series', 'seismic', 'tremor', 'lake', 'natron', 'tanzania', 'close', 'active', 'volcano', 'ol', 'donyo', 'lengai', 'located', '100', 'km', 'northwest', 'arusha', 'sent', 'violent', 'tremor', 'across', 'border', 'kenya', 'felt', 'far', 'nakuru', 'nairobi', 'mombasa', 'part', 'central', 'eastern', 'province'] \n",
      "\n",
      "The prices have doubled for food in Mole Saint Nicolas. A cup of Corn is 45 Gdes now.\n",
      "['price', 'doubled', 'food', 'mole', 'saint', 'nicolas', 'cup', 'corn', '45', 'gdes'] \n",
      "\n",
      "Haiti And Earthquake Disaster! Watch Haiti and Earthquake Pieces Left BehindHaiti and EarthquakeHaiti and Eart. http bit.ly 5XXO9q\n",
      "['haiti', 'earthquake', 'disaster', 'watch', 'haiti', 'earthquake', 'piece', 'left', 'behindhaiti', 'earthquakehaiti', 'eart', 'http', 'bit', 'ly', '5xxo9q'] \n",
      "\n",
      "5) Erratic and somewhat lighter than normal rainfall continues over parts of southern and southeastern Ethiopia, although very heavy rains were seen during the past week in areas of southeastern Sudan.\n",
      "['5', 'erratic', 'somewhat', 'lighter', 'normal', 'rainfall', 'continues', 'part', 'southern', 'southeastern', 'ethiopia', 'although', 'heavy', 'rain', 'seen', 'past', 'week', 'area', 'southeastern', 'sudan'] \n",
      "\n",
      "Everyone repent because God is coming. \n",
      "['everyone', 'repent', 'god', 'coming'] \n",
      "\n"
     ]
    }
   ],
   "source": [
    "# test out function\n",
    "for message in X.sample(5):\n",
    "    tokens = tokenize(message)\n",
    "    print(message)\n",
    "    print(tokens, '\\n')"
   ]
  },
  {
   "cell_type": "markdown",
   "metadata": {},
   "source": [
    "### 3. Build a machine learning pipeline\n",
    "This machine pipeline should take in the `message` column as input and output classification results on the other 36 categories in the dataset. You may find the [MultiOutputClassifier](http://scikit-learn.org/stable/modules/generated/sklearn.multioutput.MultiOutputClassifier.html) helpful for predicting multiple target variables."
   ]
  },
  {
   "cell_type": "code",
   "execution_count": 5,
   "metadata": {},
   "outputs": [],
   "source": [
    "# build pipeline\n",
    "pipeline = Pipeline([ \n",
    "    ('vect', CountVectorizer(tokenizer=tokenize)),\n",
    "    ('tfidf', TfidfTransformer()),\n",
    "    ('clf', MultiOutputClassifier(RandomForestClassifier(verbose=3)))\n",
    "])"
   ]
  },
  {
   "cell_type": "markdown",
   "metadata": {},
   "source": [
    "### 4. Train pipeline\n",
    "- Split data into train and test sets\n",
    "- Train pipeline"
   ]
  },
  {
   "cell_type": "code",
   "execution_count": 6,
   "metadata": {},
   "outputs": [],
   "source": [
    "# split data into train and test sets\n",
    "X_train, X_test, y_train, y_test = train_test_split(X, y, test_size=0.2)\n",
    "\n",
    "# train classifier\n",
    "pipeline.fit(X_train, y_train)\n",
    "\n",
    "# predict on test data\n",
    "y_pred = pipeline.predict(X_test)"
   ]
  },
  {
   "cell_type": "markdown",
   "metadata": {},
   "source": [
    "### 5. Test your model\n",
    "Report the f1 score, precision and recall for each output category of the dataset. You can do this by iterating through the columns and calling sklearn's `classification_report` on each."
   ]
  },
  {
   "cell_type": "code",
   "execution_count": null,
   "metadata": {},
   "outputs": [],
   "source": [
    "# evaluate model\n",
    "from sklearn.metrics import multilabel_confusion_matrix\n",
    "\n",
    "for i, col in enumerate(y_test.columns):\n",
    "    print(f'label:',col)\n",
    "    print(classification_report(y_test[col], y_pred[:, i]))\n",
    "    print('Accuracy: {:.2f}'.format(accuracy_score(y_test[col], y_pred[:, i])))\n",
    "    print('F1 Score: {:.2f}'.format(f1_score(y_test[col], y_pred[:, i], average='weighted')))\n",
    "    print()\n",
    "    print('Confusion Matrix:\\n ', multilabel_confusion_matrix(y_test[col], y_pred[:, i]))\n",
    "    print('------------------------------------------------------')"
   ]
  },
  {
   "cell_type": "code",
   "execution_count": null,
   "metadata": {},
   "outputs": [],
   "source": [
    "# Calculate metrics for each column\n",
    "from sklearn.metrics import multilabel_confusion_matrix\n",
    "\n",
    "# Initialize lists to store metrics\n",
    "cols = []\n",
    "accuracies = []\n",
    "tps = []\n",
    "tns = []\n",
    "fps = []\n",
    "fns = []\n",
    "\n",
    "# Calculate metrics for each column\n",
    "for i, col in enumerate(y_test.columns):\n",
    "    mcm = multilabel_confusion_matrix(y_test[col], y_pred[:, i])\n",
    "    for j in range(mcm.shape[0]):\n",
    "        tn, fp, fn, tp = mcm[j].ravel()\n",
    "        accuracy = (tp + tn) / (tp + tn + fp + fn)\n",
    "    \n",
    "    # Append metrics to lists\n",
    "    cols.append(f'{col}')\n",
    "    accuracies.append(accuracy)\n",
    "    tps.append(tp)\n",
    "    tns.append(tn)\n",
    "    fps.append(fp)\n",
    "    fns.append(fn)\n",
    "\n",
    "# Create DataFrame\n",
    "df = pd.DataFrame({\n",
    "    'Feature': cols,\n",
    "    'Accuracy': accuracies,\n",
    "    'TP': tps,\n",
    "    'TN': tns,\n",
    "    'FP': fps,\n",
    "    'FN': fns\n",
    "})\n",
    "\n",
    "\n",
    "df.sort_values(by='FN', ascending=False)"
   ]
  },
  {
   "cell_type": "markdown",
   "metadata": {},
   "source": [
    "### 6. Improve your model\n",
    "Use grid search to find better parameters. "
   ]
  },
  {
   "cell_type": "code",
   "execution_count": null,
   "metadata": {},
   "outputs": [],
   "source": [
    "# use grid search to find better parameters\n",
    "from sklearn.model_selection import GridSearchCV\n",
    "from joblib import parallel_backend\n",
    "\n",
    "parameters = {\n",
    "    'clf__estimator__n_estimators': [100, 200],\n",
    "    'clf__estimator__max_depth': [10, 50]\n",
    "}\n",
    "\n",
    "cv = GridSearchCV(pipeline, param_grid=parameters, verbose=3, cv=5)\n",
    "\n",
    "with parallel_backend('threading', n_jobs=8):\n",
    "    cv.fit(X_train, y_train)"
   ]
  },
  {
   "cell_type": "markdown",
   "metadata": {},
   "source": [
    "### 7. Test your model\n",
    "Show the accuracy, precision, and recall of the tuned model.  \n",
    "\n",
    "Since this project focuses on code quality, process, and  pipelines, there is no minimum performance metric needed to pass. However, make sure to fine tune your models for accuracy, precision and recall to make your project stand out - especially for your portfolio!"
   ]
  },
  {
   "cell_type": "code",
   "execution_count": null,
   "metadata": {},
   "outputs": [],
   "source": [
    "# plot the training and test accuracy \n",
    "from matplotlib import pyplot as plt\n",
    "\n",
    "plt.figure(figsize=(12, 6))\n",
    "plt.plot(cv.cv_results_['mean_test_score'], label='Test Accuracy')\n",
    "plt.plot(cv.cv_results_['mean_train_score'], label='Train Accuracy')\n",
    "plt.legend()\n",
    "plt.xlabel('Model')\n",
    "plt.ylabel('Accuracy')\n",
    "plt.title('Train and Test Accuracy')\n",
    "plt.show()\n"
   ]
  },
  {
   "cell_type": "code",
   "execution_count": null,
   "metadata": {},
   "outputs": [],
   "source": [
    "# before testing for accuracy, we will make predictions on the test set\n",
    "y_pred = cv.predict(X_test)\n"
   ]
  },
  {
   "cell_type": "code",
   "execution_count": null,
   "metadata": {},
   "outputs": [],
   "source": [
    "# show accuracy, precision and recall\n",
    "for i, col in enumerate(y_test.columns):\n",
    "    print(f'label :',col)\n",
    "    print()\n",
    "    print(classification_report(y_test[col], y_pred[:, i]))\n",
    "    print('_________________________________________________________')\n",
    "    print()\n"
   ]
  },
  {
   "cell_type": "code",
   "execution_count": null,
   "metadata": {},
   "outputs": [],
   "source": [
    "# set pareters to best parameters from grid search\n",
    "pipeline.set_params(**cv.best_params_)\n",
    "\n",
    "# fit the model\n",
    "pipeline.fit(X_train, y_train)"
   ]
  },
  {
   "cell_type": "code",
   "execution_count": null,
   "metadata": {},
   "outputs": [],
   "source": [
    "y_pred = pipeline.predict(X_test)\n",
    "for i, col in enumerate(y_test.columns):\n",
    "    print(f'label:',col)\n",
    "    print(classification_report(y_test[col], y_pred[:, i]))\n",
    "    print('Accuracy: {:.2f}'.format(accuracy_score(y_test[col], y_pred[:, i])))\n",
    "    print('F1 Score: {:.2f}'.format(f1_score(y_test[col], y_pred[:, i], average='weighted')))\n",
    "    print()\n",
    "    print('Confusion Matrix:\\n ', multilabel_confusion_matrix(y_test[col], y_pred[:, i]))\n",
    "    print('------------------------------------------------------')"
   ]
  },
  {
   "cell_type": "code",
   "execution_count": null,
   "metadata": {},
   "outputs": [],
   "source": [
    "# create dataframe with metrics\n",
    "cols = []\n",
    "accuracies = []\n",
    "tps = []\n",
    "tns = []\n",
    "fps = []\n",
    "fns = []\n",
    "\n",
    "for i, col in enumerate(y_test.columns):\n",
    "    mcm = multilabel_confusion_matrix(y_test[col], y_pred[:, i])\n",
    "    for j in range(mcm.shape[0]):\n",
    "        tn, fp, fn, tp = mcm[j].ravel()\n",
    "        accuracy = (tp + tn) / (tp + tn + fp + fn)\n",
    "    \n",
    "    cols.append(f'{col}')\n",
    "    accuracies.append(accuracy)\n",
    "    tps.append(tp)\n",
    "    tns.append(tn)\n",
    "    fps.append(fp)\n",
    "    fns.append(fn)\n",
    "\n",
    "df = pd.DataFrame({\n",
    "    'Feature': cols,\n",
    "    'Accuracy': accuracies,\n",
    "    'TP': tps,\n",
    "    'TN': tns,\n",
    "    'FP': fps,\n",
    "    'FN': fns\n",
    "})\n",
    "\n",
    "df.sort_values(by='FN', ascending=True)"
   ]
  },
  {
   "cell_type": "markdown",
   "metadata": {},
   "source": [
    "### 8. Try improving your model further. Here are a few ideas:\n",
    "* try other machine learning algorithms\n",
    "* add other features besides the TF-IDF"
   ]
  },
  {
   "cell_type": "code",
   "execution_count": null,
   "metadata": {},
   "outputs": [],
   "source": [
    "# use the XGBoost classifier for multiclass\n",
    "from xgboost import XGBClassifier\n",
    "\n",
    "pipeline = Pipeline([\n",
    "    ('vect', CountVectorizer(tokenizer=tokenize)),\n",
    "    ('tfidf', TfidfTransformer()),\n",
    "    ('clf', MultiOutputClassifier(XGBClassifier(\n",
    "        objective='multi:softmax',\n",
    "        num_class=36,\n",
    "        n_jobs=8,\n",
    "        learning_rate=0.1,\n",
    "        n_estimators=300\n",
    "    )))\n",
    "])\n",
    "\n",
    "pipeline.fit(X_train, y_train)"
   ]
  },
  {
   "cell_type": "markdown",
   "metadata": {},
   "source": [
    "### 9. Export your model as a pickle file"
   ]
  },
  {
   "cell_type": "code",
   "execution_count": null,
   "metadata": {},
   "outputs": [],
   "source": [
    "# export your model as a pickel file\n",
    "import joblib\n",
    "with open('classifier.pkl', 'wb') as file:\n",
    "    joblib.dump(pipeline, file, compress=5)\n",
    "\n",
    "# load model\n"
   ]
  },
  {
   "cell_type": "markdown",
   "metadata": {},
   "source": [
    "### 10. Use this notebook to complete `train_classifier.py`\n",
    "Use the template file attached in the Resources folder to write a script that runs the steps above to create a database and export a model based on a new dataset specified by the user."
   ]
  },
  {
   "cell_type": "code",
   "execution_count": null,
   "metadata": {},
   "outputs": [],
   "source": []
  }
 ],
 "metadata": {
  "kernelspec": {
   "display_name": "Python 3",
   "language": "python",
   "name": "python3"
  },
  "language_info": {
   "codemirror_mode": {
    "name": "ipython",
    "version": 3
   },
   "file_extension": ".py",
   "mimetype": "text/x-python",
   "name": "python",
   "nbconvert_exporter": "python",
   "pygments_lexer": "ipython3",
   "version": "3.11.8"
  }
 },
 "nbformat": 4,
 "nbformat_minor": 2
}
