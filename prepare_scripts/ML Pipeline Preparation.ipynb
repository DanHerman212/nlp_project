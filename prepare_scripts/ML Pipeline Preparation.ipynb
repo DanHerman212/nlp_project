{
 "cells": [
  {
   "cell_type": "markdown",
   "metadata": {},
   "source": [
    "# ML Pipeline Preparation\n",
    "Follow the instructions below to help you create your ML pipeline.\n",
    "### 1. Import libraries and load data from database.\n",
    "- Import Python libraries\n",
    "- Load dataset from database with [`read_sql_table`](https://pandas.pydata.org/pandas-docs/stable/generated/pandas.read_sql_table.html)\n",
    "- Define feature and target variables X and Y"
   ]
  },
  {
   "cell_type": "code",
   "execution_count": 1,
   "metadata": {},
   "outputs": [],
   "source": [
    "# import libraries\n",
    "import re\n",
    "import numpy as np\n",
    "import pandas as pd\n",
    "from nltk.corpus import stopwords\n",
    "from nltk.tokenize import word_tokenize\n",
    "from nltk.stem import WordNetLemmatizer\n",
    "from sklearn.feature_extraction.text import CountVectorizer, TfidfTransformer\n",
    "from sklearn.model_selection import train_test_split\n",
    "from sklearn.multioutput import MultiOutputClassifier\n",
    "from sklearn.ensemble import RandomForestClassifier\n",
    "from sklearn.pipeline import Pipeline\n",
    "from sklearn.metrics import classification_report, accuracy_score, confusion_matrix, f1_score\n",
    "\n",
    "import warnings \n",
    "warnings.filterwarnings('ignore')"
   ]
  },
  {
   "cell_type": "code",
   "execution_count": 2,
   "metadata": {},
   "outputs": [],
   "source": [
    "# load data from database\n",
    "from sqlalchemy import create_engine\n",
    "engine = create_engine('sqlite:///../data/disaster_response.db')\n",
    "df = pd.read_sql_table('features', engine) \n",
    "X = df['message']\n",
    "y = df.iloc[:,4:]"
   ]
  },
  {
   "cell_type": "markdown",
   "metadata": {},
   "source": [
    "### 2. Write a tokenization function to process your text data"
   ]
  },
  {
   "cell_type": "code",
   "execution_count": 3,
   "metadata": {},
   "outputs": [],
   "source": [
    "def tokenize(text):\n",
    "    # Normalize text\n",
    "    text = re.sub(r\"[^a-zA-Z0-9]\", \" \", text.lower())\n",
    "    \n",
    "    # Tokenize text\n",
    "    words = word_tokenize(text)\n",
    "    \n",
    "    # Remove stop words\n",
    "    words = [w for w in words if w not in stopwords.words(\"english\")]\n",
    "    \n",
    "    # Lemmatization\n",
    "    lemmed = [WordNetLemmatizer().lemmatize(w) for w in words]\n",
    "\n",
    "    # Stemming\n",
    "    # stemmed = [PorterStemmer().stem(w) for w in lemmed]\n",
    "    \n",
    "    return lemmed\n",
    "    "
   ]
  },
  {
   "cell_type": "markdown",
   "metadata": {},
   "source": [
    "### Test Tokenization Function"
   ]
  },
  {
   "cell_type": "code",
   "execution_count": 4,
   "metadata": {},
   "outputs": [
    {
     "name": "stdout",
     "output_type": "stream",
     "text": [
      "I would like to be had your feet every seconds \n",
      "['would', 'like', 'foot', 'every', 'second'] \n",
      "\n",
      "Can you help me find a job please? \n",
      "['help', 'find', 'job', 'please'] \n",
      "\n",
      "Six people were killed and eight more went missing after a landslide triggered by heavy rainfall buried five vehicles in Ilam on Sunday night.\n",
      "['six', 'people', 'killed', 'eight', 'went', 'missing', 'landslide', 'triggered', 'heavy', 'rainfall', 'buried', 'five', 'vehicle', 'ilam', 'sunday', 'night'] \n",
      "\n",
      "During locust outbreaks, upsurges and plagues, RAMSES output fi les with a brief interpretation should be sent twice/week and affected countries are encouraged to prepare decadal bulletins summarizing the situation.\n",
      "['locust', 'outbreak', 'upsurge', 'plague', 'ramses', 'output', 'fi', 'le', 'brief', 'interpretation', 'sent', 'twice', 'week', 'affected', 'country', 'encouraged', 'prepare', 'decadal', 'bulletin', 'summarizing', 'situation'] \n",
      "\n",
      "3 hours til show time-- LIVE earthquake coverage from SANTIAGO & the best indie music 2 cheer us up-- tune in 6:00 EST: www.santiagoradio.cl\n",
      "['3', 'hour', 'til', 'show', 'time', 'live', 'earthquake', 'coverage', 'santiago', 'best', 'indie', 'music', '2', 'cheer', 'u', 'tune', '6', '00', 'est', 'www', 'santiagoradio', 'cl'] \n",
      "\n"
     ]
    }
   ],
   "source": [
    "# test out function\n",
    "for message in X.sample(5):\n",
    "    tokens = tokenize(message)\n",
    "    print(message)\n",
    "    print(tokens, '\\n')"
   ]
  },
  {
   "cell_type": "markdown",
   "metadata": {},
   "source": [
    "### 3. Build a machine learning pipeline\n",
    "This machine pipeline should take in the `message` column as input and output classification results on the other 36 categories in the dataset. You may find the [MultiOutputClassifier](http://scikit-learn.org/stable/modules/generated/sklearn.multioutput.MultiOutputClassifier.html) helpful for predicting multiple target variables."
   ]
  },
  {
   "cell_type": "code",
   "execution_count": 5,
   "metadata": {},
   "outputs": [],
   "source": [
    "# Pipeline will have 3 steps\n",
    "# 1. CountVectorizer - Convert a collection of text documents to a matrix of token counts\n",
    "# 2. TfidfTransformer - Transform a count matrix to a normalized tf or tf-idf representation\n",
    "# 3. MultiOutputClassifier - This is a simple meta-estimator for fitting one classifier per target.\n",
    "pipeline = Pipeline([ \n",
    "    ('vect', CountVectorizer(tokenizer=tokenize)),\n",
    "    ('tfidf', TfidfTransformer()),\n",
    "    ('clf', MultiOutputClassifier(RandomForestClassifier(verbose=3)))\n",
    "])"
   ]
  },
  {
   "cell_type": "markdown",
   "metadata": {},
   "source": [
    "### 4. Train pipeline with the Benchmark model (we will look to improve through more iterations)\n",
    "- Split data into train and test sets\n",
    "- Train pipeline"
   ]
  },
  {
   "cell_type": "code",
   "execution_count": 6,
   "metadata": {},
   "outputs": [
    {
     "data": {
      "text/plain": [
       "{'memory': None,\n",
       " 'steps': [('vect',\n",
       "   CountVectorizer(tokenizer=<function tokenize at 0x163cec180>)),\n",
       "  ('tfidf', TfidfTransformer()),\n",
       "  ('clf', MultiOutputClassifier(estimator=RandomForestClassifier(verbose=3)))],\n",
       " 'verbose': False,\n",
       " 'vect': CountVectorizer(tokenizer=<function tokenize at 0x163cec180>),\n",
       " 'tfidf': TfidfTransformer(),\n",
       " 'clf': MultiOutputClassifier(estimator=RandomForestClassifier(verbose=3)),\n",
       " 'vect__analyzer': 'word',\n",
       " 'vect__binary': False,\n",
       " 'vect__decode_error': 'strict',\n",
       " 'vect__dtype': numpy.int64,\n",
       " 'vect__encoding': 'utf-8',\n",
       " 'vect__input': 'content',\n",
       " 'vect__lowercase': True,\n",
       " 'vect__max_df': 1.0,\n",
       " 'vect__max_features': None,\n",
       " 'vect__min_df': 1,\n",
       " 'vect__ngram_range': (1, 1),\n",
       " 'vect__preprocessor': None,\n",
       " 'vect__stop_words': None,\n",
       " 'vect__strip_accents': None,\n",
       " 'vect__token_pattern': '(?u)\\\\b\\\\w\\\\w+\\\\b',\n",
       " 'vect__tokenizer': <function __main__.tokenize(text)>,\n",
       " 'vect__vocabulary': None,\n",
       " 'tfidf__norm': 'l2',\n",
       " 'tfidf__smooth_idf': True,\n",
       " 'tfidf__sublinear_tf': False,\n",
       " 'tfidf__use_idf': True,\n",
       " 'clf__estimator__bootstrap': True,\n",
       " 'clf__estimator__ccp_alpha': 0.0,\n",
       " 'clf__estimator__class_weight': None,\n",
       " 'clf__estimator__criterion': 'gini',\n",
       " 'clf__estimator__max_depth': None,\n",
       " 'clf__estimator__max_features': 'sqrt',\n",
       " 'clf__estimator__max_leaf_nodes': None,\n",
       " 'clf__estimator__max_samples': None,\n",
       " 'clf__estimator__min_impurity_decrease': 0.0,\n",
       " 'clf__estimator__min_samples_leaf': 1,\n",
       " 'clf__estimator__min_samples_split': 2,\n",
       " 'clf__estimator__min_weight_fraction_leaf': 0.0,\n",
       " 'clf__estimator__monotonic_cst': None,\n",
       " 'clf__estimator__n_estimators': 100,\n",
       " 'clf__estimator__n_jobs': None,\n",
       " 'clf__estimator__oob_score': False,\n",
       " 'clf__estimator__random_state': None,\n",
       " 'clf__estimator__verbose': 3,\n",
       " 'clf__estimator__warm_start': False,\n",
       " 'clf__estimator': RandomForestClassifier(verbose=3),\n",
       " 'clf__n_jobs': None}"
      ]
     },
     "execution_count": 6,
     "metadata": {},
     "output_type": "execute_result"
    }
   ],
   "source": [
    "# show params for benchmark model\n",
    "pipeline.get_params()"
   ]
  },
  {
   "cell_type": "code",
   "execution_count": 7,
   "metadata": {},
   "outputs": [
    {
     "name": "stdout",
     "output_type": "stream",
     "text": [
      "total training observations: 20972\n",
      "total testing observations: 5244\n"
     ]
    }
   ],
   "source": [
    "# split data into train and test sets\n",
    "X_train, X_test, y_train, y_test = train_test_split(X, y, test_size=0.2)\n",
    "\n",
    "# show shape of the different datsets\n",
    "print(f'total training observations: {X_train.shape[0]}')\n",
    "print(f'total testing observations: {X_test.shape[0]}')"
   ]
  },
  {
   "cell_type": "code",
   "execution_count": 8,
   "metadata": {},
   "outputs": [],
   "source": [
    "# train classifier\n",
    "pipeline.fit(X_train, y_train)\n",
    "\n",
    "# predict on test data - total runtime about 6 minutes on a 10 core machine\n",
    "y_pred = pipeline.predict(X_test)"
   ]
  },
  {
   "cell_type": "markdown",
   "metadata": {},
   "source": [
    "### 5. Test your model\n",
    "Report the f1 score, precision and recall for each output category of the dataset. You can do this by iterating through the columns and calling sklearn's `classification_report` on each."
   ]
  },
  {
   "cell_type": "markdown",
   "metadata": {},
   "source": [
    "### Create reusable function to evaluate model performance for all 36 classes"
   ]
  },
  {
   "cell_type": "code",
   "execution_count": null,
   "metadata": {},
   "outputs": [],
   "source": [
    "def evaluate_models(X_test,y_test,estimator):\n",
    "    \"\"\"\n",
    "        Evaluate the model by calculating the precision, recall, and f1-score for each label\n",
    "    \n",
    "        Args:\n",
    "        X_test: the test features\n",
    "        y_test: the test labels\n",
    "        estimator: the trained model\n",
    "    \n",
    "        Returns:\n",
    "        results: a dataframe containing the precision, recall, and f1-score for each label\n",
    "    \"\"\"\n",
    "    from sklearn.metrics import classification_report\n",
    "\n",
    "    # predict on test data\n",
    "    y_pred = estimator.predict(X_test)\n",
    "\n",
    "    # initialize an empty dataframe to store the results\n",
    "    results = pd.DataFrame()\n",
    "\n",
    "    # calculate and store the precision, recall, and f1-score for each label\n",
    "    for i, col in enumerate(y_test.columns):\n",
    "        report = classification_report(y_test[col], y_pred[:, i], output_dict=True)\n",
    "        df = pd.DataFrame(report).transpose()\n",
    "        df['label'] = col\n",
    "        results = pd.concat([results, df])\n",
    "\n",
    "    # reset the index of the results dataframe\n",
    "    results.reset_index(inplace=True)\n",
    "    results.rename(columns={'index': 'metric'}, inplace=True)\n",
    "\n",
    "    # rearrange the columns to put 'label' first\n",
    "    cols = ['label'] + [col for col in results.columns if col != 'label']\n",
    "    results = results[cols]\n",
    "\n",
    "    # round the results to 2 decimal places\n",
    "    results = results.round(2)\n",
    "\n",
    "    # convert the 'support' column to integers\n",
    "    results.support = results.support.astype(int)\n",
    "\n",
    "    return results"
   ]
  },
  {
   "cell_type": "code",
   "execution_count": null,
   "metadata": {},
   "outputs": [],
   "source": [
    "# evaluate the model\n",
    "results1 = evaluate_models(X_test, y_test, pipeline)\n",
    "\n",
    "results1"
   ]
  },
  {
   "cell_type": "markdown",
   "metadata": {},
   "source": [
    "### 6. Improve your model\n",
    "Use grid search to find better parameters. "
   ]
  },
  {
   "cell_type": "code",
   "execution_count": null,
   "metadata": {},
   "outputs": [],
   "source": [
    "# use grid search to find better parameters\n",
    "from sklearn.model_selection import GridSearchCV\n",
    "\n",
    "# we are limiting the grid to these options, which will take 2 hrs to train\n",
    "# adding parameters will increase time exponentially\n",
    "parameters = {\n",
    "    'clf__estimator__n_estimators':[5, 10, 20],\n",
    "    'clf__estimator__max_depth': [3, 5, 7],\n",
    "    'clf__estimator__min_samples_split': [2, 4, 6]\n",
    "}\n",
    "\n",
    "# instantiate grid search object with appropriate parameters\n",
    "cv = GridSearchCV(pipeline, param_grid=parameters, verbose=3, cv=5, n_jobs=1, return_train_score=True, scoring='f1_weighted')\n",
    "\n",
    "# train the model\n",
    "cv.fit(X_train, y_train)"
   ]
  },
  {
   "cell_type": "markdown",
   "metadata": {},
   "source": [
    "### 7. Test your model\n",
    "Show the accuracy, precision, and recall of the tuned model.  \n",
    "\n",
    "Since this project focuses on code quality, process, and  pipelines, there is no minimum performance metric needed to pass. However, make sure to fine tune your models for accuracy, precision and recall to make your project stand out - especially for your portfolio!"
   ]
  },
  {
   "cell_type": "code",
   "execution_count": null,
   "metadata": {},
   "outputs": [],
   "source": [
    "# show the best parameters\n",
    "print('best parameters:', cv.best_params_)"
   ]
  },
  {
   "cell_type": "code",
   "execution_count": null,
   "metadata": {},
   "outputs": [],
   "source": [
    "# evaluate the model\n",
    "results2 = evaluate_models(X_test, y_test, cv)\n",
    "\n",
    "results2"
   ]
  },
  {
   "cell_type": "markdown",
   "metadata": {},
   "source": [
    "### Train the model on the best parameters and evaluate performance"
   ]
  },
  {
   "cell_type": "code",
   "execution_count": null,
   "metadata": {},
   "outputs": [],
   "source": [
    "# build pipeline\n",
    "pipeline = Pipeline([ \n",
    "    ('vect', CountVectorizer(tokenizer=tokenize)),\n",
    "    ('tfidf', TfidfTransformer()),\n",
    "    ('clf', MultiOutputClassifier(RandomForestClassifier(verbose=3)))\n",
    "])\n",
    "\n",
    "# set pareters to best parameters from grid search\n",
    "pipeline.set_params(**cv.best_params_)\n",
    "\n",
    "# fit the model\n",
    "pipeline.fit(X_train, y_train)"
   ]
  },
  {
   "cell_type": "code",
   "execution_count": null,
   "metadata": {},
   "outputs": [],
   "source": [
    "# evaluate the model\n",
    "results2 = evaluate_models(X_test, y_test, pipeline)\n",
    "\n",
    "results2"
   ]
  },
  {
   "cell_type": "markdown",
   "metadata": {},
   "source": [
    "### Comparing Training for 1st and 2nd model\n",
    "The second model is clearly not catching the true positive classes<br>\n",
    "We will attempt to train on a different classifer to see if we can improve accuracy<br>\n",
    "<br>\n",
    "Now we will look closer at the different model results"
   ]
  },
  {
   "cell_type": "code",
   "execution_count": null,
   "metadata": {},
   "outputs": [],
   "source": [
    "# create dataframe comparing random forrrest to xgboost for accuracy\n",
    "\n",
    "compare_models \n",
    "\n"
   ]
  },
  {
   "cell_type": "markdown",
   "metadata": {},
   "source": [
    "### 8. Try improving your model further. Here are a few ideas:\n",
    "We will attempt to train the same pipline with an XGboost Classifier"
   ]
  },
  {
   "cell_type": "code",
   "execution_count": null,
   "metadata": {},
   "outputs": [],
   "source": [
    "# use the XGBoost classifier for multiclass objective function\n",
    "from sklearn.xgboost import XGBClassifier\n",
    "\n",
    "# create a pipeline\n",
    "pipeline = Pipeline([\n",
    "    ('vect', CountVectorizer(tokenizer=tokenize)),\n",
    "    ('tfidf', TfidfTransformer()),\n",
    "    ('clf', MultiOutputClassifier(XGBClassifier()))\n",
    "\n",
    "])\n",
    "\n",
    "pipeline.fit(X_train, y_train)"
   ]
  },
  {
   "cell_type": "code",
   "execution_count": null,
   "metadata": {},
   "outputs": [],
   "source": [
    "# evaluate the model\n",
    "results3 = evaluate_models(X_test, y_test, pipeline)\n",
    "\n",
    "results3"
   ]
  },
  {
   "cell_type": "markdown",
   "metadata": {},
   "source": [
    "### Let's compare results of 3 training sessions\n"
   ]
  },
  {
   "cell_type": "code",
   "execution_count": null,
   "metadata": {},
   "outputs": [],
   "source": [
    "# compare results\n",
    "all_results = pd.concat([results1, results2, results3], axis=0)\n",
    "\n",
    "all_results"
   ]
  },
  {
   "cell_type": "markdown",
   "metadata": {},
   "source": [
    "### Summary of Model Training Iterations\n",
    "1.  Benchmark model: RandomForestClassifier - showed 95% accuracy\n",
    "2.  Grid Search: We tried 4 different sets of hyperparameters with cross validation.  However, the model seriously underfit and could not detect most of the postive classes.\n",
    "3.  XGBoost - We tried XGBoost with GridSearch and it showed 95% accuracy.  We saved this model as the final model."
   ]
  },
  {
   "cell_type": "markdown",
   "metadata": {},
   "source": [
    "### 9. Export your model as a pickle file"
   ]
  },
  {
   "cell_type": "code",
   "execution_count": null,
   "metadata": {},
   "outputs": [],
   "source": [
    "# export your model as a pickel file\n",
    "import joblib\n",
    "with open('classifier.pkl', 'wb') as file:\n",
    "    joblib.dump(pipeline, file, compress=5)\n",
    "\n",
    "# load model\n"
   ]
  },
  {
   "cell_type": "markdown",
   "metadata": {},
   "source": [
    "### 10. Use this notebook to complete `train_classifier.py`\n",
    "Use the template file attached in the Resources folder to write a script that runs the steps above to create a database and export a model based on a new dataset specified by the user."
   ]
  }
 ],
 "metadata": {
  "kernelspec": {
   "display_name": "Python 3",
   "language": "python",
   "name": "python3"
  },
  "language_info": {
   "codemirror_mode": {
    "name": "ipython",
    "version": 3
   },
   "file_extension": ".py",
   "mimetype": "text/x-python",
   "name": "python",
   "nbconvert_exporter": "python",
   "pygments_lexer": "ipython3",
   "version": "3.11.8"
  }
 },
 "nbformat": 4,
 "nbformat_minor": 2
}
